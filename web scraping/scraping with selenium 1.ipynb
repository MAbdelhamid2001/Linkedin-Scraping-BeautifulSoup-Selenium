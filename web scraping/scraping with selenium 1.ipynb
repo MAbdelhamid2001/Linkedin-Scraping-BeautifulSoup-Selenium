{
 "cells": [
  {
   "cell_type": "markdown",
   "metadata": {},
   "source": [
    "# Selenium"
   ]
  },
  {
   "cell_type": "code",
   "execution_count": 1,
   "metadata": {},
   "outputs": [],
   "source": [
    "import os\n",
    "import requests\n",
    "from bs4 import BeautifulSoup\n",
    "import selenium\n",
    "from PIL import Image\n",
    "import time\n",
    "import io\n",
    "from selenium import webdriver\n",
    "from webdriver_manager.chrome import ChromeDriverManager\n",
    "from selenium.common.exceptions import ElementClickInterceptedException,ElementNotInteractableException"
   ]
  },
  {
   "cell_type": "code",
   "execution_count": 2,
   "metadata": {},
   "outputs": [
    {
     "name": "stderr",
     "output_type": "stream",
     "text": [
      "[WDM] - Downloading:  99%|███████████████████████████████████████████████████████▎| 6.13M/6.21M [00:02<00:00, 2.57MB/s]"
     ]
    }
   ],
   "source": [
    "driver = webdriver.Chrome(ChromeDriverManager().install())"
   ]
  },
  {
   "cell_type": "code",
   "execution_count": 3,
   "metadata": {},
   "outputs": [
    {
     "name": "stderr",
     "output_type": "stream",
     "text": [
      "[WDM] - Downloading: 100%|████████████████████████████████████████████████████████| 6.21M/6.21M [00:06<00:00, 1.06MB/s]\n"
     ]
    }
   ],
   "source": [
    "options=webdriver.ChromeOptions()"
   ]
  },
  {
   "cell_type": "code",
   "execution_count": 4,
   "metadata": {},
   "outputs": [],
   "source": [
    "#options.add_argument('--ignore-certificate-errors')\n",
    "#options.add_argument('--incognito') #make it in iocoginto \n",
    "#options.add_argument('--headless') make the browser window disappear"
   ]
  },
  {
   "cell_type": "code",
   "execution_count": 15,
   "metadata": {
    "scrolled": false
   },
   "outputs": [
    {
     "data": {
      "text/plain": [
       "'\\n\\n# find_elements_by_name\\nfind_elements_by_xpath\\nfind_elements_by_link_text\\nfind_elements_by_partial_link_text\\nfind_elements_by_tag_name\\nfind_elements_by_class_name\\nfind_elements_by_css_selector\\n'"
      ]
     },
     "execution_count": 15,
     "metadata": {},
     "output_type": "execute_result"
    }
   ],
   "source": [
    "'''\n",
    "\n",
    "# find_elements_by_name\n",
    "find_elements_by_xpath\n",
    "find_elements_by_link_text\n",
    "find_elements_by_partial_link_text\n",
    "find_elements_by_tag_name\n",
    "find_elements_by_class_name\n",
    "find_elements_by_css_selector\n",
    "'''"
   ]
  },
  {
   "cell_type": "markdown",
   "metadata": {},
   "source": [
    "# Scraping some google images and download them"
   ]
  },
  {
   "cell_type": "code",
   "execution_count": 5,
   "metadata": {},
   "outputs": [],
   "source": [
    "#Specify Search URL \n",
    "search_url=\"https://www.google.com/search?q={q}&tbm=isch&tbs=sur%3Afc&hl=en&ved=0CAIQpwVqFwoTCKCa1c6s4-oCFQAAAAAdAAAAABAC&biw=1251&bih=568\" \n",
    "\n",
    "driver.get(search_url.format(q='Car'))"
   ]
  },
  {
   "cell_type": "code",
   "execution_count": 6,
   "metadata": {},
   "outputs": [],
   "source": [
    "driver.execute_script(\"window.scrollTo(0,document.body.scrollHeight);\")\n",
    "time.sleep(5)"
   ]
  },
  {
   "cell_type": "code",
   "execution_count": 7,
   "metadata": {},
   "outputs": [],
   "source": [
    "imgs=driver.find_elements_by_xpath(\"//img[contains(@class,'rg_i Q4LuWd')]\")"
   ]
  },
  {
   "cell_type": "code",
   "execution_count": 8,
   "metadata": {},
   "outputs": [],
   "source": [
    "totalresults=len(imgs)"
   ]
  },
  {
   "cell_type": "code",
   "execution_count": 9,
   "metadata": {},
   "outputs": [
    {
     "data": {
      "text/plain": [
       "100"
      ]
     },
     "execution_count": 9,
     "metadata": {},
     "output_type": "execute_result"
    }
   ],
   "source": [
    "totalresults"
   ]
  },
  {
   "cell_type": "code",
   "execution_count": null,
   "metadata": {},
   "outputs": [],
   "source": [
    "img_urls = set()\n",
    "for i in  range(0,len(imgs)):\n",
    "    img=imgs[i]\n",
    "    try:\n",
    "        img.click()\n",
    "        time.sleep(2)\n",
    "        actual_images = driver.find_elements_by_css_selector('img.n3VNCb')\n",
    "        for actual_image in actual_images:\n",
    "            if actual_image.get_attribute('src') and 'https' in actual_image.get_attribute('src'):\n",
    "                img_urls.add(actual_image.get_attribute('src'))\n",
    "    except ElementClickInterceptedException or ElementNotInteractableException as err:\n",
    "        print(err)\n",
    "        "
   ]
  },
  {
   "cell_type": "code",
   "execution_count": 22,
   "metadata": {},
   "outputs": [
    {
     "data": {
      "text/plain": [
       "{'https://c0.wallpaperflare.com/preview/923/758/393/car-headlight-light-glow-thumbnail.jpg',\n",
       " 'https://encrypted-tbn0.gstatic.com/images?q=tbn:ANd9GcQ7SxDZU-o31v8lBfLe4Ji-iSq-svzpgqlo0g&usqp=CAU',\n",
       " 'https://encrypted-tbn0.gstatic.com/images?q=tbn:ANd9GcQBq4cQO37iyAfL5DBxp9SgaPcAk0mgkuSIWQ&usqp=CAU',\n",
       " 'https://encrypted-tbn0.gstatic.com/images?q=tbn:ANd9GcQDqfvJTMyaBUayPQ_CS8-Esg-pP4F7YeI6Pw&usqp=CAU',\n",
       " 'https://encrypted-tbn0.gstatic.com/images?q=tbn:ANd9GcQFKmPwtoQRvakay6bKWHOQ_-YYK5tTVv6M8A&usqp=CAU',\n",
       " 'https://encrypted-tbn0.gstatic.com/images?q=tbn:ANd9GcQKuqlaErP-DMdaZAtD046zmHE_SUGQZR8FGQ&usqp=CAU',\n",
       " 'https://encrypted-tbn0.gstatic.com/images?q=tbn:ANd9GcQUYMUXceZoHM_CIJghu9ZtPEjdHwU87yDoPQ&usqp=CAU',\n",
       " 'https://encrypted-tbn0.gstatic.com/images?q=tbn:ANd9GcQVgfb5XAlq5CRKl9pkkEHOcDSpx4oiwPMhyg&usqp=CAU',\n",
       " 'https://encrypted-tbn0.gstatic.com/images?q=tbn:ANd9GcQhQJoKeip6INpZOALkE4cWQO7MbUcn-NELyw&usqp=CAU',\n",
       " 'https://encrypted-tbn0.gstatic.com/images?q=tbn:ANd9GcQiGmf-Y0J4FDv45WzqBXmQegALZiKqIrjAdw&usqp=CAU',\n",
       " 'https://encrypted-tbn0.gstatic.com/images?q=tbn:ANd9GcQkqkRWHzE5gEbmAbS65yWVAZKeS9vAftCD0A&usqp=CAU',\n",
       " 'https://encrypted-tbn0.gstatic.com/images?q=tbn:ANd9GcQm2nF_ff7pPW9KryNII39PL6dg2dnzSjMBxw&usqp=CAU',\n",
       " 'https://encrypted-tbn0.gstatic.com/images?q=tbn:ANd9GcQmTTJs6hciQASvsqISsVSyUEqxB4MDM_EvQw&usqp=CAU',\n",
       " 'https://encrypted-tbn0.gstatic.com/images?q=tbn:ANd9GcQokmDeQAbTTzH8AxFeP8Q5sniCZlWDsODLTw&usqp=CAU',\n",
       " 'https://encrypted-tbn0.gstatic.com/images?q=tbn:ANd9GcQqdzEE8Su0ksxQdgpHC_yC-bwyy5tRdE2npQ&usqp=CAU',\n",
       " 'https://encrypted-tbn0.gstatic.com/images?q=tbn:ANd9GcQuK0NYaACLdk2zk0wxuK5ovyi5KcJXkA8FbQ&usqp=CAU',\n",
       " 'https://encrypted-tbn0.gstatic.com/images?q=tbn:ANd9GcQyixwKiLKT4Kl6NzrhzRAMCBZQOUPypZx9ag&usqp=CAU',\n",
       " 'https://encrypted-tbn0.gstatic.com/images?q=tbn:ANd9GcR24-i7poBB6PF19tgeFujJudcSuu4MsmMAbQ&usqp=CAU',\n",
       " 'https://encrypted-tbn0.gstatic.com/images?q=tbn:ANd9GcR5KbgwIZNpMVkgKRf1KOKglA1Gqreo8DpYgQ&usqp=CAU',\n",
       " 'https://encrypted-tbn0.gstatic.com/images?q=tbn:ANd9GcRASmNqE_YZuv1VLDuMPHmxQ4OEmtz1RlRcsA&usqp=CAU',\n",
       " 'https://encrypted-tbn0.gstatic.com/images?q=tbn:ANd9GcRTa5mtd1Uo4T5f0wBfd0YUZyx_y_r2b3PTCw&usqp=CAU',\n",
       " 'https://encrypted-tbn0.gstatic.com/images?q=tbn:ANd9GcRYz3RX-fTUqqR4bLX4XshMS8UvsvFkN1boug&usqp=CAU',\n",
       " 'https://encrypted-tbn0.gstatic.com/images?q=tbn:ANd9GcRZJDBGPHRvfgKrekDdgl6ycNY6tzVlgYlIOA&usqp=CAU',\n",
       " 'https://encrypted-tbn0.gstatic.com/images?q=tbn:ANd9GcR_wFSAGxPA94sDDxTrNLa3hLOiLwI4cqtCDA&usqp=CAU',\n",
       " 'https://encrypted-tbn0.gstatic.com/images?q=tbn:ANd9GcRo8Rx2e3Ovn734VRNKDW7T_cJelKMQBinE8A&usqp=CAU',\n",
       " 'https://encrypted-tbn0.gstatic.com/images?q=tbn:ANd9GcS-kDUez7VVcInx-8IijX-CYjnvBHU5P7J4oA&usqp=CAU',\n",
       " 'https://encrypted-tbn0.gstatic.com/images?q=tbn:ANd9GcS3mjBSFqy7UJHgd5_o1DSRUNif2VKJrhV2lw&usqp=CAU',\n",
       " 'https://encrypted-tbn0.gstatic.com/images?q=tbn:ANd9GcSHp9xEB7zz99bx0-sJi_NPEreb2uK500RzRw&usqp=CAU',\n",
       " 'https://encrypted-tbn0.gstatic.com/images?q=tbn:ANd9GcSIjGNpUewoW22_XyivMY42Fegjcn1QmwRP2g&usqp=CAU',\n",
       " 'https://encrypted-tbn0.gstatic.com/images?q=tbn:ANd9GcSJYCqYf7ORVusPofGbZCsA_Xs14z94uICVJw&usqp=CAU',\n",
       " 'https://encrypted-tbn0.gstatic.com/images?q=tbn:ANd9GcSJdazDUg49DKObuM-yE3Cc61vfeY-KD9qr5w&usqp=CAU',\n",
       " 'https://encrypted-tbn0.gstatic.com/images?q=tbn:ANd9GcSKm72EiAUO208V9cx6JqnaTdXDRk5_3MMMcA&usqp=CAU',\n",
       " 'https://encrypted-tbn0.gstatic.com/images?q=tbn:ANd9GcSPQdIewIu4H6B7EYw6fWnKwT-BIYPyBqWXeg&usqp=CAU',\n",
       " 'https://encrypted-tbn0.gstatic.com/images?q=tbn:ANd9GcSV7onbeLitEcr_mafr84AqgoV3YjnZ98EfHA&usqp=CAU',\n",
       " 'https://encrypted-tbn0.gstatic.com/images?q=tbn:ANd9GcSZiTISg6mR93bJOQyUx9PVUR7Gk2xf7wDi-Q&usqp=CAU',\n",
       " 'https://encrypted-tbn0.gstatic.com/images?q=tbn:ANd9GcSoIk_KejvIuCaP7cRXDswJFxQnwlUMC1BunA&usqp=CAU',\n",
       " 'https://encrypted-tbn0.gstatic.com/images?q=tbn:ANd9GcStjPlcf5sSirpeqS1pnZyBCi88ugmNm8D2yg&usqp=CAU',\n",
       " 'https://encrypted-tbn0.gstatic.com/images?q=tbn:ANd9GcSttUjtP-9j6QjOSnqRMwG9SEwK9C05b1i6qQ&usqp=CAU',\n",
       " 'https://encrypted-tbn0.gstatic.com/images?q=tbn:ANd9GcSwlOFm9dV08ur_UWxbVIIMYCAdYaglRB2sfg&usqp=CAU',\n",
       " 'https://encrypted-tbn0.gstatic.com/images?q=tbn:ANd9GcT1rkPF6JDsAk6p7Hnk_tilq5m1Bq_IbyJzqw&usqp=CAU',\n",
       " 'https://encrypted-tbn0.gstatic.com/images?q=tbn:ANd9GcT7YENzOOvE4v9vgFrN6o_x2DyABo2aPJC8pA&usqp=CAU',\n",
       " 'https://encrypted-tbn0.gstatic.com/images?q=tbn:ANd9GcTKP3S_9qlmljFEC1LFVu_IT4D3xXwa-vDnpA&usqp=CAU',\n",
       " 'https://encrypted-tbn0.gstatic.com/images?q=tbn:ANd9GcTcRuqdcFp83VarUgUtJpwwHiI0o38Mrrbd8g&usqp=CAU',\n",
       " 'https://encrypted-tbn0.gstatic.com/images?q=tbn:ANd9GcTnGrnoK-VorrB06l5lKpJbTczkV1kt73FtRg&usqp=CAU',\n",
       " 'https://encrypted-tbn0.gstatic.com/images?q=tbn:ANd9GcToOnAXgeenp25e_bQjVaFSTE_-UQ0gyDXYRw&usqp=CAU',\n",
       " 'https://encrypted-tbn0.gstatic.com/images?q=tbn:ANd9GcTsN7GzDRZRf0ikowGPSBSmAKpgPV077WOM6g&usqp=CAU',\n",
       " 'https://encrypted-tbn0.gstatic.com/images?q=tbn:ANd9GcTxS4RSy44eqb5qTse6w21CjdvmAMV00NuPPg&usqp=CAU',\n",
       " 'https://freesvg.org/img/auto2_red_400px.png',\n",
       " 'https://freesvg.org/img/carsymbol1.png',\n",
       " 'https://live.staticflickr.com/3757/9292664901_3298303f2c_b.jpg',\n",
       " 'https://svgsilh.com/svg_v2/1918554.svg',\n",
       " 'https://upload.wikimedia.org/wikipedia/commons/1/1f/2d_car.jpg',\n",
       " 'https://upload.wikimedia.org/wikipedia/commons/thumb/5/5a/Sports_car_or_race_car_animation.png/1280px-Sports_car_or_race_car_animation.png',\n",
       " 'https://upload.wikimedia.org/wikipedia/commons/thumb/f/f6/Car.svg/1024px-Car.svg.png'}"
      ]
     },
     "execution_count": 22,
     "metadata": {},
     "output_type": "execute_result"
    }
   ],
   "source": [
    "img_urls"
   ]
  },
  {
   "cell_type": "code",
   "execution_count": 24,
   "metadata": {},
   "outputs": [],
   "source": [
    "d='F:\\mohamed\\Machine Learning 2\\web scraping\\image scraping'"
   ]
  },
  {
   "cell_type": "code",
   "execution_count": 25,
   "metadata": {},
   "outputs": [],
   "source": [
    "os.chdir(d)\n",
    "baseDir=os.getcwd()"
   ]
  },
  {
   "cell_type": "code",
   "execution_count": 30,
   "metadata": {},
   "outputs": [
    {
     "name": "stdout",
     "output_type": "stream",
     "text": [
      "SAVED - https://encrypted-tbn0.gstatic.com/images?q=tbn:ANd9GcQRoGwpV1ENTVsgBv6RNO2WIwzbDuyyGXR1Bg&usqp=CAU - AT: F:\\mohamed\\Machine Learning 2\\web scraping\\image scraping\\                                                                                                                                                     0.jpg\n",
      "SAVED - https://encrypted-tbn0.gstatic.com/images?q=tbn:ANd9GcT13gmLXHOmoLSfQedy469zfRJKdUAEn5QZbQ&usqp=CAU - AT: F:\\mohamed\\Machine Learning 2\\web scraping\\image scraping\\                                                                                                                                                     1.jpg\n",
      "ERROR - COULD NOT SAVE https://upload.wikimedia.org/wikipedia/commons/thumb/0/0a/Old_car_in_junkyard.jpg/2560px-Old_car_in_junkyard.jpg - cannot identify image file <_io.BytesIO object at 0x0000022973ACB4A0>\n",
      "SAVED - https://encrypted-tbn0.gstatic.com/images?q=tbn:ANd9GcQVgfb5XAlq5CRKl9pkkEHOcDSpx4oiwPMhyg&usqp=CAU - AT: F:\\mohamed\\Machine Learning 2\\web scraping\\image scraping\\                                                                                                                                                     3.jpg\n",
      "SAVED - https://encrypted-tbn0.gstatic.com/images?q=tbn:ANd9GcQyixwKiLKT4Kl6NzrhzRAMCBZQOUPypZx9ag&usqp=CAU - AT: F:\\mohamed\\Machine Learning 2\\web scraping\\image scraping\\                                                                                                                                                     4.jpg\n",
      "SAVED - https://encrypted-tbn0.gstatic.com/images?q=tbn:ANd9GcSttUjtP-9j6QjOSnqRMwG9SEwK9C05b1i6qQ&usqp=CAU - AT: F:\\mohamed\\Machine Learning 2\\web scraping\\image scraping\\                                                                                                                                                     5.jpg\n",
      "SAVED - https://encrypted-tbn0.gstatic.com/images?q=tbn:ANd9GcQ4ZBeQmhbvfvQ4nK4boqlIGKzkuqh0g68T7A&usqp=CAU - AT: F:\\mohamed\\Machine Learning 2\\web scraping\\image scraping\\                                                                                                                                                     6.jpg\n",
      "SAVED - https://encrypted-tbn0.gstatic.com/images?q=tbn:ANd9GcSIjGNpUewoW22_XyivMY42Fegjcn1QmwRP2g&usqp=CAU - AT: F:\\mohamed\\Machine Learning 2\\web scraping\\image scraping\\                                                                                                                                                     7.jpg\n",
      "SAVED - https://encrypted-tbn0.gstatic.com/images?q=tbn:ANd9GcTnGrnoK-VorrB06l5lKpJbTczkV1kt73FtRg&usqp=CAU - AT: F:\\mohamed\\Machine Learning 2\\web scraping\\image scraping\\                                                                                                                                                     8.jpg\n",
      "SAVED - https://encrypted-tbn0.gstatic.com/images?q=tbn:ANd9GcRTa5mtd1Uo4T5f0wBfd0YUZyx_y_r2b3PTCw&usqp=CAU - AT: F:\\mohamed\\Machine Learning 2\\web scraping\\image scraping\\                                                                                                                                                     9.jpg\n",
      "SAVED - https://encrypted-tbn0.gstatic.com/images?q=tbn:ANd9GcS-kDUez7VVcInx-8IijX-CYjnvBHU5P7J4oA&usqp=CAU - AT: F:\\mohamed\\Machine Learning 2\\web scraping\\image scraping\\                                                                                                                                                    10.jpg\n",
      "SAVED - https://encrypted-tbn0.gstatic.com/images?q=tbn:ANd9GcSJYCqYf7ORVusPofGbZCsA_Xs14z94uICVJw&usqp=CAU - AT: F:\\mohamed\\Machine Learning 2\\web scraping\\image scraping\\                                                                                                                                                    11.jpg\n",
      "SAVED - https://encrypted-tbn0.gstatic.com/images?q=tbn:ANd9GcSPQdIewIu4H6B7EYw6fWnKwT-BIYPyBqWXeg&usqp=CAU - AT: F:\\mohamed\\Machine Learning 2\\web scraping\\image scraping\\                                                                                                                                                    12.jpg\n",
      "SAVED - https://encrypted-tbn0.gstatic.com/images?q=tbn:ANd9GcRcLHZZKgXGWuKDA2dsmBU_EHBzedDCz7WYvQ&usqp=CAU - AT: F:\\mohamed\\Machine Learning 2\\web scraping\\image scraping\\                                                                                                                                                    13.jpg\n",
      "SAVED - https://encrypted-tbn0.gstatic.com/images?q=tbn:ANd9GcT1rkPF6JDsAk6p7Hnk_tilq5m1Bq_IbyJzqw&usqp=CAU - AT: F:\\mohamed\\Machine Learning 2\\web scraping\\image scraping\\                                                                                                                                                    14.jpg\n",
      "SAVED - https://encrypted-tbn0.gstatic.com/images?q=tbn:ANd9GcRrSmS8NL-kq6eiwi82PZ9oktpu9O3Oi2uT9w&usqp=CAU - AT: F:\\mohamed\\Machine Learning 2\\web scraping\\image scraping\\                                                                                                                                                    15.jpg\n",
      "SAVED - https://encrypted-tbn0.gstatic.com/images?q=tbn:ANd9GcS3mjBSFqy7UJHgd5_o1DSRUNif2VKJrhV2lw&usqp=CAU - AT: F:\\mohamed\\Machine Learning 2\\web scraping\\image scraping\\                                                                                                                                                    16.jpg\n",
      "SAVED - https://encrypted-tbn0.gstatic.com/images?q=tbn:ANd9GcR5KbgwIZNpMVkgKRf1KOKglA1Gqreo8DpYgQ&usqp=CAU - AT: F:\\mohamed\\Machine Learning 2\\web scraping\\image scraping\\                                                                                                                                                    17.jpg\n",
      "SAVED - https://encrypted-tbn0.gstatic.com/images?q=tbn:ANd9GcRZJDBGPHRvfgKrekDdgl6ycNY6tzVlgYlIOA&usqp=CAU - AT: F:\\mohamed\\Machine Learning 2\\web scraping\\image scraping\\                                                                                                                                                    18.jpg\n",
      "SAVED - https://encrypted-tbn0.gstatic.com/images?q=tbn:ANd9GcT7YENzOOvE4v9vgFrN6o_x2DyABo2aPJC8pA&usqp=CAU - AT: F:\\mohamed\\Machine Learning 2\\web scraping\\image scraping\\                                                                                                                                                    19.jpg\n",
      "ERROR - COULD NOT SAVE https://svgsilh.com/svg_v2/1300231.svg - cannot identify image file <_io.BytesIO object at 0x00000229749669F0>\n",
      "SAVED - https://encrypted-tbn0.gstatic.com/images?q=tbn:ANd9GcQA7gSgLX8Gyiki6_84KgsdCxdDpjez7IwuIA&usqp=CAU - AT: F:\\mohamed\\Machine Learning 2\\web scraping\\image scraping\\                                                                                                                                                    21.jpg\n",
      "SAVED - https://encrypted-tbn0.gstatic.com/images?q=tbn:ANd9GcQUYMUXceZoHM_CIJghu9ZtPEjdHwU87yDoPQ&usqp=CAU - AT: F:\\mohamed\\Machine Learning 2\\web scraping\\image scraping\\                                                                                                                                                    22.jpg\n",
      "SAVED - https://encrypted-tbn0.gstatic.com/images?q=tbn:ANd9GcQiGmf-Y0J4FDv45WzqBXmQegALZiKqIrjAdw&usqp=CAU - AT: F:\\mohamed\\Machine Learning 2\\web scraping\\image scraping\\                                                                                                                                                    23.jpg\n",
      "SAVED - https://encrypted-tbn0.gstatic.com/images?q=tbn:ANd9GcTKP3S_9qlmljFEC1LFVu_IT4D3xXwa-vDnpA&usqp=CAU - AT: F:\\mohamed\\Machine Learning 2\\web scraping\\image scraping\\                                                                                                                                                    24.jpg\n",
      "SAVED - https://encrypted-tbn0.gstatic.com/images?q=tbn:ANd9GcQokmDeQAbTTzH8AxFeP8Q5sniCZlWDsODLTw&usqp=CAU - AT: F:\\mohamed\\Machine Learning 2\\web scraping\\image scraping\\                                                                                                                                                    25.jpg\n",
      "SAVED - https://encrypted-tbn0.gstatic.com/images?q=tbn:ANd9GcSV7onbeLitEcr_mafr84AqgoV3YjnZ98EfHA&usqp=CAU - AT: F:\\mohamed\\Machine Learning 2\\web scraping\\image scraping\\                                                                                                                                                    26.jpg\n",
      "SAVED - https://encrypted-tbn0.gstatic.com/images?q=tbn:ANd9GcToOnAXgeenp25e_bQjVaFSTE_-UQ0gyDXYRw&usqp=CAU - AT: F:\\mohamed\\Machine Learning 2\\web scraping\\image scraping\\                                                                                                                                                    27.jpg\n",
      "SAVED - https://encrypted-tbn0.gstatic.com/images?q=tbn:ANd9GcQDqfvJTMyaBUayPQ_CS8-Esg-pP4F7YeI6Pw&usqp=CAU - AT: F:\\mohamed\\Machine Learning 2\\web scraping\\image scraping\\                                                                                                                                                    28.jpg\n",
      "SAVED - https://encrypted-tbn0.gstatic.com/images?q=tbn:ANd9GcQKuqlaErP-DMdaZAtD046zmHE_SUGQZR8FGQ&usqp=CAU - AT: F:\\mohamed\\Machine Learning 2\\web scraping\\image scraping\\                                                                                                                                                    29.jpg\n",
      "SAVED - https://encrypted-tbn0.gstatic.com/images?q=tbn:ANd9GcQuK0NYaACLdk2zk0wxuK5ovyi5KcJXkA8FbQ&usqp=CAU - AT: F:\\mohamed\\Machine Learning 2\\web scraping\\image scraping\\                                                                                                                                                    30.jpg\n",
      "SAVED - https://encrypted-tbn0.gstatic.com/images?q=tbn:ANd9GcRo8Rx2e3Ovn734VRNKDW7T_cJelKMQBinE8A&usqp=CAU - AT: F:\\mohamed\\Machine Learning 2\\web scraping\\image scraping\\                                                                                                                                                    31.jpg\n",
      "SAVED - https://encrypted-tbn0.gstatic.com/images?q=tbn:ANd9GcQmTTJs6hciQASvsqISsVSyUEqxB4MDM_EvQw&usqp=CAU - AT: F:\\mohamed\\Machine Learning 2\\web scraping\\image scraping\\                                                                                                                                                    32.jpg\n",
      "SAVED - https://encrypted-tbn0.gstatic.com/images?q=tbn:ANd9GcQ7SxDZU-o31v8lBfLe4Ji-iSq-svzpgqlo0g&usqp=CAU - AT: F:\\mohamed\\Machine Learning 2\\web scraping\\image scraping\\                                                                                                                                                    33.jpg\n",
      "SAVED - https://encrypted-tbn0.gstatic.com/images?q=tbn:ANd9GcSZiTISg6mR93bJOQyUx9PVUR7Gk2xf7wDi-Q&usqp=CAU - AT: F:\\mohamed\\Machine Learning 2\\web scraping\\image scraping\\                                                                                                                                                    34.jpg\n",
      "SAVED - https://upload.wikimedia.org/wikipedia/commons/thumb/1/17/Car_pictogram.svg/2560px-Car_pictogram.svg.png - AT: F:\\mohamed\\Machine Learning 2\\web scraping\\image scraping\\                                                                                                                                                    35.jpg\n",
      "SAVED - https://encrypted-tbn0.gstatic.com/images?q=tbn:ANd9GcQhQJoKeip6INpZOALkE4cWQO7MbUcn-NELyw&usqp=CAU - AT: F:\\mohamed\\Machine Learning 2\\web scraping\\image scraping\\                                                                                                                                                    36.jpg\n",
      "SAVED - https://encrypted-tbn0.gstatic.com/images?q=tbn:ANd9GcQFKmPwtoQRvakay6bKWHOQ_-YYK5tTVv6M8A&usqp=CAU - AT: F:\\mohamed\\Machine Learning 2\\web scraping\\image scraping\\                                                                                                                                                    37.jpg\n",
      "SAVED - https://encrypted-tbn0.gstatic.com/images?q=tbn:ANd9GcR_wFSAGxPA94sDDxTrNLa3hLOiLwI4cqtCDA&usqp=CAU - AT: F:\\mohamed\\Machine Learning 2\\web scraping\\image scraping\\                                                                                                                                                    38.jpg\n",
      "SAVED - https://encrypted-tbn0.gstatic.com/images?q=tbn:ANd9GcQBq4cQO37iyAfL5DBxp9SgaPcAk0mgkuSIWQ&usqp=CAU - AT: F:\\mohamed\\Machine Learning 2\\web scraping\\image scraping\\                                                                                                                                                    39.jpg\n",
      "SAVED - https://encrypted-tbn0.gstatic.com/images?q=tbn:ANd9GcTsN7GzDRZRf0ikowGPSBSmAKpgPV077WOM6g&usqp=CAU - AT: F:\\mohamed\\Machine Learning 2\\web scraping\\image scraping\\                                                                                                                                                    40.jpg\n",
      "SAVED - https://encrypted-tbn0.gstatic.com/images?q=tbn:ANd9GcSwlOFm9dV08ur_UWxbVIIMYCAdYaglRB2sfg&usqp=CAU - AT: F:\\mohamed\\Machine Learning 2\\web scraping\\image scraping\\                                                                                                                                                    41.jpg\n",
      "SAVED - https://encrypted-tbn0.gstatic.com/images?q=tbn:ANd9GcStjPlcf5sSirpeqS1pnZyBCi88ugmNm8D2yg&usqp=CAU - AT: F:\\mohamed\\Machine Learning 2\\web scraping\\image scraping\\                                                                                                                                                    42.jpg\n",
      "ERROR - COULD NOT SAVE https://svgsilh.com/svg_v2/1918554.svg - cannot identify image file <_io.BytesIO object at 0x0000022973DC22C0>\n",
      "SAVED - https://encrypted-tbn0.gstatic.com/images?q=tbn:ANd9GcRcNeNvLd6eRR8ocb3DGoad-UJ8PBwgTUmf9w&usqp=CAU - AT: F:\\mohamed\\Machine Learning 2\\web scraping\\image scraping\\                                                                                                                                                    44.jpg\n",
      "SAVED - https://encrypted-tbn0.gstatic.com/images?q=tbn:ANd9GcRRWE4fXDqDNMBrO8P2HJ6AyDTETP3kCzWiVw&usqp=CAU - AT: F:\\mohamed\\Machine Learning 2\\web scraping\\image scraping\\                                                                                                                                                    45.jpg\n",
      "SAVED - https://encrypted-tbn0.gstatic.com/images?q=tbn:ANd9GcSKm72EiAUO208V9cx6JqnaTdXDRk5_3MMMcA&usqp=CAU - AT: F:\\mohamed\\Machine Learning 2\\web scraping\\image scraping\\                                                                                                                                                    46.jpg\n",
      "SAVED - https://encrypted-tbn0.gstatic.com/images?q=tbn:ANd9GcSHp9xEB7zz99bx0-sJi_NPEreb2uK500RzRw&usqp=CAU - AT: F:\\mohamed\\Machine Learning 2\\web scraping\\image scraping\\                                                                                                                                                    47.jpg\n",
      "SAVED - https://encrypted-tbn0.gstatic.com/images?q=tbn:ANd9GcQ_41fd0jiyQl8yVKjEfgKbJVmGxVJkdFmKeQ&usqp=CAU - AT: F:\\mohamed\\Machine Learning 2\\web scraping\\image scraping\\                                                                                                                                                    48.jpg\n",
      "SAVED - https://encrypted-tbn0.gstatic.com/images?q=tbn:ANd9GcRcbb8KNNYOspVbUq-o5xc74i3JPeJ85Sa4Qw&usqp=CAU - AT: F:\\mohamed\\Machine Learning 2\\web scraping\\image scraping\\                                                                                                                                                    49.jpg\n",
      "SAVED - https://encrypted-tbn0.gstatic.com/images?q=tbn:ANd9GcQqdzEE8Su0ksxQdgpHC_yC-bwyy5tRdE2npQ&usqp=CAU - AT: F:\\mohamed\\Machine Learning 2\\web scraping\\image scraping\\                                                                                                                                                    50.jpg\n",
      "SAVED - https://encrypted-tbn0.gstatic.com/images?q=tbn:ANd9GcSoIk_KejvIuCaP7cRXDswJFxQnwlUMC1BunA&usqp=CAU - AT: F:\\mohamed\\Machine Learning 2\\web scraping\\image scraping\\                                                                                                                                                    51.jpg\n",
      "SAVED - https://encrypted-tbn0.gstatic.com/images?q=tbn:ANd9GcRYz3RX-fTUqqR4bLX4XshMS8UvsvFkN1boug&usqp=CAU - AT: F:\\mohamed\\Machine Learning 2\\web scraping\\image scraping\\                                                                                                                                                    52.jpg\n",
      "SAVED - https://encrypted-tbn0.gstatic.com/images?q=tbn:ANd9GcTcRuqdcFp83VarUgUtJpwwHiI0o38Mrrbd8g&usqp=CAU - AT: F:\\mohamed\\Machine Learning 2\\web scraping\\image scraping\\                                                                                                                                                    53.jpg\n",
      "SAVED - https://encrypted-tbn0.gstatic.com/images?q=tbn:ANd9GcSJdazDUg49DKObuM-yE3Cc61vfeY-KD9qr5w&usqp=CAU - AT: F:\\mohamed\\Machine Learning 2\\web scraping\\image scraping\\                                                                                                                                                    54.jpg\n",
      "SAVED - https://encrypted-tbn0.gstatic.com/images?q=tbn:ANd9GcRASmNqE_YZuv1VLDuMPHmxQ4OEmtz1RlRcsA&usqp=CAU - AT: F:\\mohamed\\Machine Learning 2\\web scraping\\image scraping\\                                                                                                                                                    55.jpg\n",
      "SAVED - https://encrypted-tbn0.gstatic.com/images?q=tbn:ANd9GcQkqkRWHzE5gEbmAbS65yWVAZKeS9vAftCD0A&usqp=CAU - AT: F:\\mohamed\\Machine Learning 2\\web scraping\\image scraping\\                                                                                                                                                    56.jpg\n",
      "SAVED - https://encrypted-tbn0.gstatic.com/images?q=tbn:ANd9GcSHSqD-4TLNcGKeyuAAenPiuE1IMBCPxLhSsQ&usqp=CAU - AT: F:\\mohamed\\Machine Learning 2\\web scraping\\image scraping\\                                                                                                                                                    57.jpg\n",
      "SAVED - https://shmector.com/_ph/11/238950965.png - AT: F:\\mohamed\\Machine Learning 2\\web scraping\\image scraping\\                                                                                                                                                    58.jpg\n",
      "SAVED - https://encrypted-tbn0.gstatic.com/images?q=tbn:ANd9GcTxS4RSy44eqb5qTse6w21CjdvmAMV00NuPPg&usqp=CAU - AT: F:\\mohamed\\Machine Learning 2\\web scraping\\image scraping\\                                                                                                                                                    59.jpg\n",
      "SAVED - https://encrypted-tbn0.gstatic.com/images?q=tbn:ANd9GcQm2nF_ff7pPW9KryNII39PL6dg2dnzSjMBxw&usqp=CAU - AT: F:\\mohamed\\Machine Learning 2\\web scraping\\image scraping\\                                                                                                                                                    60.jpg\n",
      "SAVED - https://encrypted-tbn0.gstatic.com/images?q=tbn:ANd9GcQw_3KPaAKsKJOAdCEh4N4vo8oP0hSwcMMU4g&usqp=CAU - AT: F:\\mohamed\\Machine Learning 2\\web scraping\\image scraping\\                                                                                                                                                    61.jpg\n",
      "SAVED - https://encrypted-tbn0.gstatic.com/images?q=tbn:ANd9GcR24-i7poBB6PF19tgeFujJudcSuu4MsmMAbQ&usqp=CAU - AT: F:\\mohamed\\Machine Learning 2\\web scraping\\image scraping\\                                                                                                                                                    62.jpg\n",
      "SAVED - https://encrypted-tbn0.gstatic.com/images?q=tbn:ANd9GcSJf_sQnsS1MKhCp0ERuONF71ktDySjqWqAjw&usqp=CAU - AT: F:\\mohamed\\Machine Learning 2\\web scraping\\image scraping\\                                                                                                                                                    63.jpg\n",
      "SAVED - https://encrypted-tbn0.gstatic.com/images?q=tbn:ANd9GcSm6wJRmY1gbs3Tlu6wKtULEYeIMwKcRH05mg&usqp=CAU - AT: F:\\mohamed\\Machine Learning 2\\web scraping\\image scraping\\                                                                                                                                                    64.jpg\n"
     ]
    }
   ],
   "source": [
    "for i ,url in enumerate(img_urls):\n",
    "    file_name=f\"{i:150}.jpg\"\n",
    "    try:\n",
    "        image_content=requests.get(url).content\n",
    "    except Exception as e:\n",
    "        print(f\"error- could not download {url} - {e}\")\n",
    "    \n",
    "    try:\n",
    "            image_file = io.BytesIO(image_content)\n",
    "            image = Image.open(image_file).convert('RGB')\n",
    "\n",
    "            file_path = os.path.join(baseDir, file_name)\n",
    "\n",
    "            with open(file_path, 'wb') as f:\n",
    "                image.save(f, \"JPEG\", quality=85)\n",
    "            print(f\"SAVED - {url} - AT: {file_path}\")\n",
    "    except Exception as e:\n",
    "            print(f\"ERROR - COULD NOT SAVE {url} - {e}\")"
   ]
  }
 ],
 "metadata": {
  "kernelspec": {
   "display_name": "Python 3",
   "language": "python",
   "name": "python3"
  },
  "language_info": {
   "codemirror_mode": {
    "name": "ipython",
    "version": 3
   },
   "file_extension": ".py",
   "mimetype": "text/x-python",
   "name": "python",
   "nbconvert_exporter": "python",
   "pygments_lexer": "ipython3",
   "version": "3.8.5"
  }
 },
 "nbformat": 4,
 "nbformat_minor": 4
}
