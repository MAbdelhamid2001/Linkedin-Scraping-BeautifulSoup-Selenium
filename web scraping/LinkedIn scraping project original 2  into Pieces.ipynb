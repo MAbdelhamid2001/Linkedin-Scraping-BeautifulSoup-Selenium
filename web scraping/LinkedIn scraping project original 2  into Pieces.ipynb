{
 "cells": [
  {
   "cell_type": "code",
   "execution_count": 98,
   "metadata": {},
   "outputs": [],
   "source": [
    "from bs4 import BeautifulSoup\n",
    "from selenium import webdriver\n",
    "from webdriver_manager.chrome import ChromeDriverManager\n",
    "from selenium.webdriver.common.keys import Keys\n",
    "import time\n",
    "import re\n",
    "from datetime import date, timedelta\n",
    "from selenium.webdriver.common.by import By"
   ]
  },
  {
   "cell_type": "code",
   "execution_count": 99,
   "metadata": {},
   "outputs": [],
   "source": [
    "driver=webdriver.Chrome(ChromeDriverManager().install())"
   ]
  },
  {
   "cell_type": "code",
   "execution_count": 100,
   "metadata": {},
   "outputs": [],
   "source": [
    "url='https://www.linkedin.com'\n",
    "driver.get(url)"
   ]
  },
  {
   "cell_type": "code",
   "execution_count": 101,
   "metadata": {},
   "outputs": [],
   "source": [
    "#time.sleep(5)\n",
    "email=driver.find_element_by_xpath(\"//input[@class='input__input'][@name='session_key']\")\n",
    "passw=driver.find_element_by_xpath(\"//input[@class='input__input'][@name='session_password']\")\n",
    "sign_button=driver.find_element_by_xpath(\"//button[@class='sign-in-form__submit-button']\")"
   ]
  },
  {
   "cell_type": "code",
   "execution_count": 102,
   "metadata": {},
   "outputs": [],
   "source": [
    "mail=''\n",
    "passowrd=''\n",
    "email.send_keys(mail)\n",
    "passw.send_keys(passowrd)\n",
    "sign_button.click()\n",
    "time.sleep(2)"
   ]
  },
  {
   "cell_type": "code",
   "execution_count": 103,
   "metadata": {},
   "outputs": [],
   "source": [
    "jobs_icon=sign_button=driver.find_element_by_xpath(\"//a[@href='https://www.linkedin.com/jobs/?']\")\n",
    "jobs_icon.click()"
   ]
  },
  {
   "cell_type": "markdown",
   "metadata": {},
   "source": [
    "****"
   ]
  },
  {
   "cell_type": "code",
   "execution_count": 104,
   "metadata": {},
   "outputs": [],
   "source": [
    "#time.sleep(5)\n",
    "job_seach_bar=driver.find_element_by_xpath(\"//div[@id='global-nav-search']\")\n",
    "job_seach_bar.click()\n",
    "time.sleep(2)"
   ]
  },
  {
   "cell_type": "code",
   "execution_count": 105,
   "metadata": {},
   "outputs": [],
   "source": [
    "job_name=driver.find_element_by_xpath(\"//input[@class='jobs-search-box__text-input jobs-search-box__keyboard-text-input']\")\n",
    "job='Data Scientist'\n",
    "location='egypt'\n",
    "job_name.send_keys(job)\n",
    "time.sleep(2)"
   ]
  },
  {
   "cell_type": "code",
   "execution_count": 106,
   "metadata": {},
   "outputs": [],
   "source": [
    "job_location=driver.find_element_by_xpath(\"//input[@class='jobs-search-box__text-input']\")\n",
    "job_location.send_keys(location)\n",
    "job_name.send_keys(Keys.ENTER)\n",
    "time.sleep(2)"
   ]
  },
  {
   "cell_type": "code",
   "execution_count": null,
   "metadata": {},
   "outputs": [],
   "source": []
  },
  {
   "cell_type": "markdown",
   "metadata": {},
   "source": [
    "# Try this "
   ]
  },
  {
   "cell_type": "code",
   "execution_count": 2,
   "metadata": {},
   "outputs": [],
   "source": [
    "# this code help to access next page that conain new jobs"
   ]
  },
  {
   "cell_type": "code",
   "execution_count": null,
   "metadata": {},
   "outputs": [],
   "source": [
    "get_url = driver.current_url\n",
    "print(get_url)"
   ]
  },
  {
   "cell_type": "code",
   "execution_count": null,
   "metadata": {},
   "outputs": [],
   "source": [
    "c=1\n",
    "c +=1\n",
    "des='Page '+str(c)\n",
    "dest=f\"//button[@aria-label='{des}']\"\n",
    "print(dest)"
   ]
  },
  {
   "cell_type": "code",
   "execution_count": null,
   "metadata": {},
   "outputs": [],
   "source": [
    "next_page_button=driver.find_element_by_xpath(dest)\n",
    "next_page_button.click()"
   ]
  },
  {
   "cell_type": "markdown",
   "metadata": {},
   "source": [
    "# Before continue "
   ]
  },
  {
   "cell_type": "code",
   "execution_count": 83,
   "metadata": {},
   "outputs": [],
   "source": [
    "number_of_elements_found = 0\n",
    "while True:\n",
    "    els = driver.find_elements(By.CSS_SELECTOR, '.job-card-list__insight')\n",
    "    if number_of_elements_found == len(els):\n",
    "        # Reached the end of loadable elements\n",
    "        break\n",
    "\n",
    "    try:\n",
    "        driver.execute_script(\"arguments[0].scrollIntoView();\", els[-1])\n",
    "        time.sleep(2)\n",
    "        number_of_elements_found = len(els)\n",
    "\n",
    "    except StaleElementReferenceException:\n",
    "        # Possible to get a StaleElementReferenceException. Ignore it and retry.\n",
    "        pass"
   ]
  },
  {
   "cell_type": "code",
   "execution_count": 84,
   "metadata": {},
   "outputs": [],
   "source": [
    "# #scroll the aside window to load jobs\n",
    "# els = driver.find_elements(By.CSS_SELECTOR, '.job-card-list__insight')\n",
    "# driver.execute_script(\"arguments[0].scrollIntoView();\", els[-1])"
   ]
  },
  {
   "cell_type": "markdown",
   "metadata": {},
   "source": [
    "# problem 1 scorll   Solved"
   ]
  },
  {
   "cell_type": "code",
   "execution_count": 85,
   "metadata": {},
   "outputs": [
    {
     "data": {
      "text/plain": [
       "23"
      ]
     },
     "execution_count": 85,
     "metadata": {},
     "output_type": "execute_result"
    }
   ],
   "source": [
    "x=driver.find_elements_by_xpath(\"//div[@class='full-width artdeco-entity-lockup__title ember-view']/a[@href]\")\n",
    "len(x)"
   ]
  },
  {
   "cell_type": "code",
   "execution_count": 86,
   "metadata": {},
   "outputs": [
    {
     "name": "stdout",
     "output_type": "stream",
     "text": [
      "https://www.linkedin.com/jobs/view/3219560402/?eBP=CwEAAAGCoEwEY7hqiNkVbJq5a5IE_Boe90yH1NB9C8-U_5G6ZxkXwtLDE8uY1H_IOmeByJ4B7JXF5gVZyE6RqjFg1HLtIdaLfjQ25RuXV2jdWw9HFEJ2NWcZCo3H82P966xFehK5xhUUWx3YtZRNPlkkvij1wNFE3AAI8h0h0ghcib68Ig0zNmgqMlM7L1ab7bL3h7KzNNmfSUGG3wXjhbAi3rxQcmzRNELltuXxPKruSR6bU8fMvO81BVJIriYXWdx0Rc4ySMYd4B-gpw-awnC3NAsZiETORBXSUquKLUIfN-Au3dkw2LyjQ7znx9h-6El_TAbk7kUrWwBaj-1DLegrZ5Oh286fsPvINLgzR_Sn3zzQsospCWygxRdjalNx-OJQ2G_MBNjIXdGsaA&refId=seFzxQH%2F6Pb%2BhJYSdkhN2w%3D%3D&trackingId=J%2B4adW6wjPCZxQ7Nup251g%3D%3D&trk=flagship3_search_srp_jobs\n",
      "https://www.linkedin.com/jobs/view/3215877901/?eBP=JOB_SEARCH_ORGANIC&recommendedFlavor=ACTIVELY_HIRING_COMPANY&refId=seFzxQH%2F6Pb%2BhJYSdkhN2w%3D%3D&trackingId=3iIbyZkjWod7ZWkfprzsNA%3D%3D&trk=flagship3_search_srp_jobs\n",
      "https://www.linkedin.com/jobs/view/3211186054/?eBP=CwEAAAGCoEwEY6OYK1KQinZxwEJ0-Zkfdd-4zomkyIgTHg6DoSaRVa3e_5nO8rxZJf7qF_dBdWFPrO4ztHTtRxCxzW09-kt1gxDba2qWlU54byiODaJhrK7_i02Mc-0eAhIAAkFPQd52iBab8E-zenr-fThh26-1gb3lBoM09QYrf3QFKHMi6XrGgzvGqesn5rfat4szDRJlGANWjIGeIcD61wVD9sx5KM6eyLn4JJ69OWR6DQcu-XmQw0WHPU79LyDpDTdd4Vf_KAEySzYYN9S6wyZ7p81DzIx47kWoGUzPnmaflBNQ6yPRp131fgMmf1vDxNY1zhwsqjH79Uj7vyNEeWi6HDA&recommendedFlavor=JOB_SEEKER_QUALIFIED&refId=seFzxQH%2F6Pb%2BhJYSdkhN2w%3D%3D&trackingId=lxVup%2BG7gpNGCVYhvcCg5A%3D%3D&trk=flagship3_search_srp_jobs\n",
      "https://www.linkedin.com/jobs/view/3219580326/?eBP=CwEAAAGCoEwEY-zGuIrrqy_71-cs8RjUY8Dc2114h1lswf1OQECJPa6atICcNf-TwNg_aC7Evuny2xATPUjfHJD6pFOF3xh9ZQHe7V4e_zrG68DrWZ_Q7GcNOixucaK-SlzG3JpUzANGVflRCPfgan1C2NEKk4rCzhmTiakox7GufF3pFvUCjYUizBU_UGH7WTT9NZMJtf17p3GmH8qIzgRNItjxGFw4ahHU0hqjfV2XH3CENIa2phAOYiofSCV7refdBrHGy-4iEk7yM1d3c9SHrZZI4VH64TrBX6867nDHod3Lug1T9aRdUPcNmQZHYsT7RXBNJ2RYW7cWuwvjJqS_zFmEiwAzMMVjEyf9aCmqwAgPTqfEeQ&recommendedFlavor=JOB_SEEKER_QUALIFIED&refId=seFzxQH%2F6Pb%2BhJYSdkhN2w%3D%3D&trackingId=AO%2F%2FYFAJbRoOjvlAr0g%2FMg%3D%3D&trk=flagship3_search_srp_jobs\n",
      "https://www.linkedin.com/jobs/view/3219023797/?eBP=CwEAAAGCoEwEY5Y8hYgCfQFzXQiB5U2c8LUd-_WZ4Dgn1BGAk9c-MblyLq6uduR7MnaU0LqTzl3OD_VJQFac0GGiZ7OPjElThVIFsmc6WLL0W8_es7YroFJu-amn4KAVyQ86Rbout-9Dy8wAsdeAw-RoiILnw6sRrxhZYx8luA3hQ0I4LNh67VFENtSQK2yRLVsbv4JVuSbLlVIvKzxkFB4Yn53iBEPQbzNNAb6BpfVXZ0RkL_Dq5SV18RW8K7sq7A6AuvXYCUYPYx2aaiOysVRBFuIdYhQJlXxZkJruAaRYh-UaVJRaVQE7sfgNTASvuDdo6DB6TX8t2wkJ7ad4VJWOo1dcga5K3VKhGjRjyWxQJ6AKiyxj_mKKmk-Vau6CJU_K1abu9w&refId=seFzxQH%2F6Pb%2BhJYSdkhN2w%3D%3D&trackingId=ixFJWFCFy%2BY8nSKSEwkEpg%3D%3D&trk=flagship3_search_srp_jobs\n",
      "https://www.linkedin.com/jobs/view/3218381253/?eBP=CwEAAAGCoEwEYxox9qHKNp7AdOhZhjjLmFLZ0i2mjvFgqja3-eA2fYjuaNmcQWwrRBoJlzCVajYkjvmGw7g1IgQ0CQv6jZcJSL6RuTfPGAUw-W4Z9X-uWdDQ8E-lJsvEpqqCUL19Y3YMzBYpH4XpB4ydL_yEF_qEZwvF_OyKSTgzNPHZ54UE8VO5scawU9I_EW3hv2KB4gQDvjlG8pDV0iOtMR_Kg1eZCEJ6fJGVp7rQQC8MbMEdzDfh98UkMvPjuV9gyEfl5XsTNJ4BzyZXk-RbPlayjyl2KTyLigIIdVsQYFn0oR6MJJ8bCMPNFaWxb2JbI5biV2IFnQ-M0WVe1-TYM7qB2Wwo3k06EGGJh35ry5snrgaHgpcev46fZVSUVQcJOsMXTA&recommendedFlavor=ACTIVELY_HIRING_COMPANY&refId=seFzxQH%2F6Pb%2BhJYSdkhN2w%3D%3D&trackingId=AWtaao0A6yKjte%2BcsXPNQw%3D%3D&trk=flagship3_search_srp_jobs\n",
      "https://www.linkedin.com/jobs/view/3218382643/?eBP=CwEAAAGCoEwEY5gLgu7TNGhshDMG_nboimKZhvZ5tnq_8cQhUkXs-WFEUNeNjBIE28-IDCmkNYZMpAR291O1WmDidLt4GwSGfhWGFXQlHTR9l-b6cxeb9OIGq26bIABKKhTwD-kKRmof9ihms2D9lPFk1_4I4Vl0C0HtVnuUO7qFZkrcxAC7gXXWGOZD9lDQqE-tmyMvmSAiZgcYfU-qlCd8Ue1JRzMFa-PgdRMLLAvJmKL3jnObkrMzA0tbB1cF_UNivUNSP0OqcUSjZyp5AF72ZNLWwAxHfjDUuOW9J0-C4UzmcGrT9uWguIqEifn89AO1rNO4Wc0bekHrVv9IHJVL7gJtZBYR4rZPk6O_R3OA10wpU5aJeip0&refId=seFzxQH%2F6Pb%2BhJYSdkhN2w%3D%3D&trackingId=nnBHrhHBcWDa90hYph3T9g%3D%3D&trk=flagship3_search_srp_jobs\n",
      "https://www.linkedin.com/jobs/view/3131177667/?eBP=JOB_SEARCH_ORGANIC&recommendedFlavor=ACTIVELY_HIRING_COMPANY&refId=seFzxQH%2F6Pb%2BhJYSdkhN2w%3D%3D&trackingId=xWGi9JbAYb5hktn3B4mbLQ%3D%3D&trk=flagship3_search_srp_jobs\n",
      "https://www.linkedin.com/jobs/view/3216281381/?eBP=JOB_SEARCH_ORGANIC&recommendedFlavor=ACTIVELY_HIRING_COMPANY&refId=seFzxQH%2F6Pb%2BhJYSdkhN2w%3D%3D&trackingId=bX4Bmg6xE9Xg0O6aHkIWiw%3D%3D&trk=flagship3_search_srp_jobs\n",
      "https://www.linkedin.com/jobs/view/3218360537/?eBP=JOB_SEARCH_ORGANIC&recommendedFlavor=ACTIVELY_HIRING_COMPANY&refId=seFzxQH%2F6Pb%2BhJYSdkhN2w%3D%3D&trackingId=%2F%2BLCTtLeGJoj1O7mtBIM8g%3D%3D&trk=flagship3_search_srp_jobs\n",
      "https://www.linkedin.com/jobs/view/3214779337/?eBP=JOB_SEARCH_ORGANIC&recommendedFlavor=ACTIVELY_HIRING_COMPANY&refId=seFzxQH%2F6Pb%2BhJYSdkhN2w%3D%3D&trackingId=AmxLZfY%2FLaUqsgev9OEAaA%3D%3D&trk=flagship3_search_srp_jobs\n",
      "https://www.linkedin.com/jobs/view/3161470105/?eBP=JOB_SEARCH_ORGANIC&recommendedFlavor=ACTIVELY_HIRING_COMPANY&refId=seFzxQH%2F6Pb%2BhJYSdkhN2w%3D%3D&trackingId=xez8lrAC6R%2BEVX8iGuhSTQ%3D%3D&trk=flagship3_search_srp_jobs\n",
      "https://www.linkedin.com/jobs/view/3150322204/?eBP=JOB_SEARCH_ORGANIC&recommendedFlavor=ACTIVELY_HIRING_COMPANY&refId=seFzxQH%2F6Pb%2BhJYSdkhN2w%3D%3D&trackingId=%2FNU3qZMA4erC8t7pFTnPqA%3D%3D&trk=flagship3_search_srp_jobs\n",
      "https://www.linkedin.com/jobs/view/3179865052/?eBP=JOB_SEARCH_ORGANIC&recommendedFlavor=ACTIVELY_HIRING_COMPANY&refId=seFzxQH%2F6Pb%2BhJYSdkhN2w%3D%3D&trackingId=IQ2fzFq3e%2Bj9pe%2BZTPF0uQ%3D%3D&trk=flagship3_search_srp_jobs\n",
      "https://www.linkedin.com/jobs/view/3216280905/?eBP=JOB_SEARCH_ORGANIC&recommendedFlavor=ACTIVELY_HIRING_COMPANY&refId=seFzxQH%2F6Pb%2BhJYSdkhN2w%3D%3D&trackingId=KlwQRJ3ArUgd56Daje0O4w%3D%3D&trk=flagship3_search_srp_jobs\n",
      "https://www.linkedin.com/jobs/view/3190324740/?eBP=CwEAAAGCoEwEY5sL39TgBH267eO5gV86PsEqryGfDlbfQa7KTjKAsXHe4_GMQM9B7OR3GgCknBGNI41_0VAZ2CG60QSHMRgy1x-lC_f1ipEXUDP__bXqv9lqADrg6udnpq2NKFmB3dli9TFIFaOvKIiEdL8lKZeX-EnD6Jh7KhF95xCEVthpYaLWptaPFDJyz4nNSRHxka6W1D4RB56yLhX3q93FAOdmBE0wnOziL1CfWJJzptn9J7j1l89PVSbvfWpO29o23P4lOD-odldclVY1OXzEgM8yasDA94miRaq-apSuVxEULN4l40BJlBoZ7d6nPa-yjcKQjSoQOCTjAPJokfSbuYvi9S-OF7YAy01xg7StPZXTmRpNRViW4Khn5ytApQBfjA&recommendedFlavor=JOB_SEEKER_QUALIFIED&refId=seFzxQH%2F6Pb%2BhJYSdkhN2w%3D%3D&trackingId=Ghlcb8nESN8p6xnZttkX9A%3D%3D&trk=flagship3_search_srp_jobs\n",
      "https://www.linkedin.com/jobs/view/3205058729/?eBP=CwEAAAGCoEwEY9XRIJLsgkRL8MdrP3f4cawP7Rbyk4jfdWACWwhh8xt11KiPHKv8J_795d1Or930-7tZN8Tc406gQQZxaFtmkt8-DdcjYcwK5LZyoqCJlxLYWydnEhQxfoZUv8mmA3f-Bh3lEx4RqBpYWoeV1x4Fsz7Rha4QAqQvcNa91Zbs8araIUndLfMIV1FXgtDvJor6CQ2SOPlT3CYPyn9irp8nCqCIIl3A3v9Agisf4_9IhHgJZzAP0HnrWsAlKsv1Rox0nFnF0V1y9_W8vY88fFXNK6P3XehAIyhPT1lucYgJ64OXZ_6JolGgoi7bZbQys06RshdmPqauPFpkxmnrjh1QnUOhHZXB4Jxam4ZaVDjP37-SSZmmzTwVvm2lSiENfA&recommendedFlavor=ACTIVELY_HIRING_COMPANY&refId=seFzxQH%2F6Pb%2BhJYSdkhN2w%3D%3D&trackingId=1JFgdpfNVl97%2Fiu%2FjKjkhg%3D%3D&trk=flagship3_search_srp_jobs\n",
      "https://www.linkedin.com/jobs/view/3216275801/?eBP=CwEAAAGCoEwEZPec3-gH97CCbQTh8LOSaBR8u4h7rXkPcy42slI4U-ALTFzOLE1juN4ooGmp4_Gy_XEXhcL0bHaKy6srb1IcTAsY_Z7REfr2lUXJ3W46jKfzoFkKRg5BeyC-AyBCPhn1pmYo2jpCTmcnDkxje05VQ62r_VyEyR2Oy1B9pxs5se4i5LuZgNOsBIa_3OZJZL-ACE5F_ds_BFlbzYHSgwKcbFzcYjWpUwLlICTehlZtTxHmqHfPUsGwjRhLqEsVR2HVOaP6BR0DyJ_kLaV7O1kH3YrkGEKCgPnZ-Gg8QtHZQuPHEdxEvVv2uGR2GwpsaYTUP4gddH5KmW3jXE42mnOxpN8NAEyLap2c0ikgzh136CMm7mLmo0Bb5YlAcJpBEw&recommendedFlavor=ACTIVELY_HIRING_COMPANY&refId=seFzxQH%2F6Pb%2BhJYSdkhN2w%3D%3D&trackingId=SQJUu%2BXZkWZ3mWHU4TCsoA%3D%3D&trk=flagship3_search_srp_jobs\n",
      "https://www.linkedin.com/jobs/view/3204134900/?eBP=CwEAAAGCoEwEZGOuRouA37DRpale_k7CZmRdO8KFxy4Mk19GXBxQxQrho8gpCL_gYXZyXPscJH1psv226bx34x2A2RQZd_rqyFvwEnjr_pcbLnxBzh2XnUHslQ3Ur9kWgmq6PZhRBZoaxTJmAf9JqNpme-p8gVM9e-mOMcAUipoAX-uMAZ8HJa-9OnQzVA2hC1c0YjI2GA4ji9YvhNIzSD5kZeKwwWsGpFrk0-0mrAbMMQhRM_ZT1EMVMwAmUxl1vZyGp3JGOwfbeAzd6J30FWalJZ48IK0vSJ3ALhtol0r2HcsZLDu9uOf8u2okxugwbHv1s4c2Pykab2fawCpUEQxmfiHVsR27eL1O_hLbzQ8udzFc-DieAhCH4RtE1SyvP2B0HBC_sA&recommendedFlavor=ACTIVELY_HIRING_COMPANY&refId=seFzxQH%2F6Pb%2BhJYSdkhN2w%3D%3D&trackingId=WtMs8wq3qBmyTz3gQF%2Bqdg%3D%3D&trk=flagship3_search_srp_jobs\n",
      "https://www.linkedin.com/jobs/view/3213201268/?eBP=CwEAAAGCoEwEZOYMOmUW3zt9SQkpgYGWMO8FsoeDFmx0OckOGX3aL4zdv0mHHLYmdbC_PUDDMeWLlBS7kvtSfqXgDKWcZbUSvlDne4rRYizyPv_B3Ivuhgj_wneI4LrhCMjNUFkfeMI8rWMPW7iSwU9AiJyDXoJOgA3BARgrC1nnfShz4x1G1xp2T1_aVFr993Sdper7NwHMCJIPIoy3smiN9xXhVHD3gtTSZJ7P8BhLjandwXd5WJfoSnW97PKy3-hknPun7ZJTXMhXlgpp_MSUF7wL7lb1u6Q7oahNOiyXhjMBSAB4COP1vznpE9Gec9nA44-Q_JAnK90kzko3QtBP3WV_LyFyersCtOVkcs4JzGt8kx-5GlXK4OBA478-HiamXq0&recommendedFlavor=ACTIVELY_HIRING_COMPANY&refId=seFzxQH%2F6Pb%2BhJYSdkhN2w%3D%3D&trackingId=IMSkbp0wI%2F%2BLpcrXeIzOBQ%3D%3D&trk=flagship3_search_srp_jobs\n",
      "https://www.linkedin.com/jobs/view/3215882312/?eBP=JOB_SEARCH_ORGANIC&recommendedFlavor=ACTIVELY_HIRING_COMPANY&refId=seFzxQH%2F6Pb%2BhJYSdkhN2w%3D%3D&trackingId=7aZe5XnMuYVp5Olz79sfUQ%3D%3D&trk=flagship3_search_srp_jobs\n",
      "https://www.linkedin.com/jobs/view/3024104013/?eBP=JOB_SEARCH_ORGANIC&recommendedFlavor=ACTIVELY_HIRING_COMPANY&refId=seFzxQH%2F6Pb%2BhJYSdkhN2w%3D%3D&trackingId=5Gvy4ifMiA78KJI%2FOK0C4w%3D%3D&trk=flagship3_search_srp_jobs\n",
      "https://www.linkedin.com/jobs/view/3204137560/?eBP=JOB_SEARCH_ORGANIC&recommendedFlavor=ACTIVELY_HIRING_COMPANY&refId=seFzxQH%2F6Pb%2BhJYSdkhN2w%3D%3D&trackingId=egYWgjHjd6OjLiR3FqzESw%3D%3D&trk=flagship3_search_srp_jobs\n"
     ]
    }
   ],
   "source": [
    "urls=set()\n",
    "for l in x:\n",
    "    print(l.get_attribute('href'))\n",
    "    urls.add(l.get_attribute('href'))"
   ]
  },
  {
   "cell_type": "code",
   "execution_count": 92,
   "metadata": {},
   "outputs": [],
   "source": [
    "urls=list(urls)"
   ]
  },
  {
   "cell_type": "code",
   "execution_count": 93,
   "metadata": {},
   "outputs": [],
   "source": [
    "driver.get(urls[0])"
   ]
  },
  {
   "cell_type": "code",
   "execution_count": 94,
   "metadata": {},
   "outputs": [],
   "source": [
    "content=driver.page_source\n",
    "soup=BeautifulSoup(content,'html.parser')"
   ]
  },
  {
   "cell_type": "code",
   "execution_count": 97,
   "metadata": {
    "scrolled": true
   },
   "outputs": [
    {
     "name": "stdout",
     "output_type": "stream",
     "text": [
      "Software Development Engineer\n",
      "Siemens Digital Industries Software\n",
      "New Cairo, Cairo, Egypt\n",
      "On-site\n",
      "Full-time · Entry level\n",
      "4 weeks ago\n",
      "2022-08-11\n",
      "Pay range unavailable\n",
      "https://www.linkedin.com/jobs/view/3215877901/?eBP=JOB_SEARCH_ORGANIC&recommendedFlavor=ACTIVELY_HIRING_COMPANY&refId=seFzxQH%2F6Pb%2BhJYSdkhN2w%3D%3D&trackingId=3iIbyZkjWod7ZWkfprzsNA%3D%3D&trk=flagship3_search_srp_jobs\n"
     ]
    }
   ],
   "source": [
    "#next_page_soup=Current_page_soup.find('li',class_='next').find('a').get(href)\n",
    "driver.execute_script(\"window.scrollTo(0, document.body.scrollHeight)\") \n",
    "time.sleep(2)\n",
    "title=soup.find('h1',class_='t-24 t-bold jobs-unified-top-card__job-title').text\n",
    "print(title)\n",
    "company_name=soup.find('span',class_='jobs-unified-top-card__company-name').text.strip()\n",
    "print(company_name)\n",
    "location=soup.find('span',class_='jobs-unified-top-card__bullet').text.strip()\n",
    "print(location)\n",
    "work_type=soup.find('span',class_='jobs-unified-top-card__workplace-type').text.strip()\n",
    "print(work_type)\n",
    "job_type_2=soup.find('div',class_='mt5 mb2').find('li',class_='jobs-unified-top-card__job-insight').find('span').text.strip()\n",
    "print(job_type_2)\n",
    "try:\n",
    "    d=soup.find('span',class_='jobs-unified-top-card__posted-date').text.strip()\n",
    "    print(d)\n",
    "    d=re.search('\\d',d).group()\n",
    "    job_posted_date=date.today()-timedelta(int(d))          \n",
    "except:\n",
    "    job_posted_date='No longer Available'\n",
    "print(str(job_posted_date))\n",
    "try:\n",
    "    pay_range=driver.find_element_by_xpath(\"//h2[@class='t-16 pt4 ph5']\").text\n",
    "except:\n",
    "    pay_range=driver.find_element_by_xpath(\"//p[@class='t-16']\").text\n",
    "print(pay_range)\n",
    "link_of_job =urls[0]\n",
    "print(link_of_job)\n"
   ]
  },
  {
   "cell_type": "code",
   "execution_count": null,
   "metadata": {},
   "outputs": [],
   "source": []
  },
  {
   "cell_type": "code",
   "execution_count": null,
   "metadata": {},
   "outputs": [],
   "source": [
    "#link of the application later cause(easy apply/ direct link) make comparsion first\n",
    "# descriptions / responsibilites\n",
    "# qualifications`\n"
   ]
  }
 ],
 "metadata": {
  "kernelspec": {
   "display_name": "Python 3",
   "language": "python",
   "name": "python3"
  },
  "language_info": {
   "codemirror_mode": {
    "name": "ipython",
    "version": 3
   },
   "file_extension": ".py",
   "mimetype": "text/x-python",
   "name": "python",
   "nbconvert_exporter": "python",
   "pygments_lexer": "ipython3",
   "version": "3.8.5"
  }
 },
 "nbformat": 4,
 "nbformat_minor": 4
}
