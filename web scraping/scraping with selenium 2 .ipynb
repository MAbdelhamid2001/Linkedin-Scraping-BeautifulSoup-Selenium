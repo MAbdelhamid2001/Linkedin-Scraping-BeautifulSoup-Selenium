{
 "cells": [
  {
   "cell_type": "markdown",
   "metadata": {},
   "source": [
    "# Selenium 2"
   ]
  },
  {
   "cell_type": "code",
   "execution_count": 33,
   "metadata": {},
   "outputs": [],
   "source": [
    "import requests \n",
    "from selenium import webdriver\n",
    "from webdriver_manager.chrome import ChromeDriverManager\n",
    "from selenium.webdriver.chrome.options import Options\n"
   ]
  },
  {
   "cell_type": "code",
   "execution_count": 34,
   "metadata": {},
   "outputs": [],
   "source": [
    "#options\n",
    "options=Options()\n",
    "options.headless= False #hide gui\n",
    "options.add_argument(\"--window-size=1920,1080\")\n",
    "options.add_argument(\"--start-maximized\")\n",
    "options.add_experimental_option(\n",
    "#make chrome not load images and java scrpit\n",
    "    \"prefs\",{\"profile.managed_default_content_settings.images\":2}\n",
    "\n",
    ")"
   ]
  },
  {
   "cell_type": "code",
   "execution_count": 35,
   "metadata": {},
   "outputs": [],
   "source": [
    "driver=webdriver.Chrome(ChromeDriverManager().install(),options=options)"
   ]
  },
  {
   "cell_type": "markdown",
   "metadata": {},
   "source": [
    "# Scraping Twitch"
   ]
  },
  {
   "cell_type": "code",
   "execution_count": 36,
   "metadata": {},
   "outputs": [],
   "source": [
    "#go to acces this website\n",
    "driver.get(\"https://www.twitch.tv/directory/game/Art\")"
   ]
  },
  {
   "cell_type": "code",
   "execution_count": 37,
   "metadata": {},
   "outputs": [],
   "source": [
    "#driver.quit()"
   ]
  },
  {
   "cell_type": "code",
   "execution_count": 38,
   "metadata": {},
   "outputs": [],
   "source": [
    "#from parsel import Selector\n",
    "from selenium.webdriver.common.by import By\n",
    "from selenium.webdriver.support.ui import WebDriverWait\n",
    "from selenium.webdriver.support import expected_conditions as EC\n",
    "import time\n",
    "#object which blocks our program until a specific condition is met. In this case, our condition is a presence of an element that we select through a CSS selector.\n",
    "\n",
    "#hecking whether the page has loaded\n",
    "element = WebDriverWait(driver=driver, timeout=5).until(\n",
    "    EC.presence_of_element_located((By.CSS_SELECTOR, 'div[data-target=directory-first-item]'))\n",
    ")"
   ]
  },
  {
   "cell_type": "code",
   "execution_count": 39,
   "metadata": {},
   "outputs": [],
   "source": [
    "from parsel import Selector\n",
    "\n",
    "sel = Selector(text=driver.page_source)\n",
    "parsed = []\n",
    "for item in sel.xpath(\"//div[contains(@class,'tw-tower')]/div[@data-target]\"):\n",
    "    parsed.append({\n",
    "        'title': item.css('h3::text').get(),\n",
    "        'url': item.css('.tw-link::attr(href)').get(),\n",
    "        'username': item.css('.tw-link::text').get(),\n",
    "        'tags': item.css('.tw-tag ::text').getall(),\n",
    "        'viewers': ''.join(item.css('.tw-media-card-stat::text').re(r'(\\d+)')),\n",
    "    })"
   ]
  },
  {
   "cell_type": "code",
   "execution_count": 40,
   "metadata": {},
   "outputs": [],
   "source": [
    "#for parsing we use Beautiful soup"
   ]
  },
  {
   "cell_type": "code",
   "execution_count": 41,
   "metadata": {},
   "outputs": [
    {
     "data": {
      "text/html": [
       "<div>\n",
       "<style scoped>\n",
       "    .dataframe tbody tr th:only-of-type {\n",
       "        vertical-align: middle;\n",
       "    }\n",
       "\n",
       "    .dataframe tbody tr th {\n",
       "        vertical-align: top;\n",
       "    }\n",
       "\n",
       "    .dataframe thead th {\n",
       "        text-align: right;\n",
       "    }\n",
       "</style>\n",
       "<table border=\"1\" class=\"dataframe\">\n",
       "  <thead>\n",
       "    <tr style=\"text-align: right;\">\n",
       "      <th></th>\n",
       "      <th>title</th>\n",
       "      <th>url</th>\n",
       "      <th>username</th>\n",
       "      <th>tags</th>\n",
       "      <th>viewers</th>\n",
       "    </tr>\n",
       "  </thead>\n",
       "  <tbody>\n",
       "    <tr>\n",
       "      <th>0</th>\n",
       "      <td>Weekend Marathon!</td>\n",
       "      <td>/bobross/videos</td>\n",
       "      <td>None</td>\n",
       "      <td>[English]</td>\n",
       "      <td>17</td>\n",
       "    </tr>\n",
       "    <tr>\n",
       "      <th>1</th>\n",
       "      <td>1</td>\n",
       "      <td>/eo58/videos</td>\n",
       "      <td>None</td>\n",
       "      <td>[Korean]</td>\n",
       "      <td>1</td>\n",
       "    </tr>\n",
       "    <tr>\n",
       "      <th>2</th>\n",
       "      <td>싱글벙글 그림 공부</td>\n",
       "      <td>/tmrtir/videos</td>\n",
       "      <td>None</td>\n",
       "      <td>[Drawing, Korean]</td>\n",
       "      <td>90</td>\n",
       "    </tr>\n",
       "    <tr>\n",
       "      <th>3</th>\n",
       "      <td>[ENG/CZ] 💀Orc lady💀| !deviantart</td>\n",
       "      <td>/tofusenshi/videos</td>\n",
       "      <td>None</td>\n",
       "      <td>[Digital Art, Czech Republic]</td>\n",
       "      <td>189</td>\n",
       "    </tr>\n",
       "    <tr>\n",
       "      <th>4</th>\n",
       "      <td>리노참치 그림방송</td>\n",
       "      <td>/rinotuna/videos</td>\n",
       "      <td>None</td>\n",
       "      <td>[Korean]</td>\n",
       "      <td>616</td>\n",
       "    </tr>\n",
       "    <tr>\n",
       "      <th>5</th>\n",
       "      <td>🌱 Local dog creates an OC design with the Pestie!</td>\n",
       "      <td>/yuniiho/videos</td>\n",
       "      <td>None</td>\n",
       "      <td>[Vtuber, Digital Art, Anime]</td>\n",
       "      <td>873</td>\n",
       "    </tr>\n",
       "    <tr>\n",
       "      <th>6</th>\n",
       "      <td>(ﾉ◕ヮ◕)ﾉ*:･ﾟ✧ Cosy vibes with Lana | !Giveaway ...</td>\n",
       "      <td>/michi/videos</td>\n",
       "      <td>None</td>\n",
       "      <td>[No Backseating, English]</td>\n",
       "      <td>72</td>\n",
       "    </tr>\n",
       "    <tr>\n",
       "      <th>7</th>\n",
       "      <td>ART COLLAB W/ MICHI| !day1 !adv !social</td>\n",
       "      <td>/lanalane/videos</td>\n",
       "      <td>None</td>\n",
       "      <td>[Depression, Chilled, Anime]</td>\n",
       "      <td>70</td>\n",
       "    </tr>\n",
       "    <tr>\n",
       "      <th>8</th>\n",
       "      <td>3D Waifus 💼Nephtunie Day 3💼</td>\n",
       "      <td>/shonzo/videos</td>\n",
       "      <td>None</td>\n",
       "      <td>[English, Speedrun, Vtuber]</td>\n",
       "      <td>198</td>\n",
       "    </tr>\n",
       "    <tr>\n",
       "      <th>9</th>\n",
       "      <td>Drawing! ❖ !chatgame !socials</td>\n",
       "      <td>/orobou/videos</td>\n",
       "      <td>None</td>\n",
       "      <td>[Vtuber, Anime]</td>\n",
       "      <td>70</td>\n",
       "    </tr>\n",
       "    <tr>\n",
       "      <th>10</th>\n",
       "      <td>hello nice to meat u</td>\n",
       "      <td>/pikat/videos</td>\n",
       "      <td>None</td>\n",
       "      <td>[English, Casual Playthrough]</td>\n",
       "      <td>148</td>\n",
       "    </tr>\n",
       "    <tr>\n",
       "      <th>11</th>\n",
       "      <td>chill Sunday weird art &lt;3   !video  !SHOP !cof...</td>\n",
       "      <td>/lunar_13/videos</td>\n",
       "      <td>None</td>\n",
       "      <td>[Anime, Auditory ASMR, ADHD]</td>\n",
       "      <td>9</td>\n",
       "    </tr>\n",
       "    <tr>\n",
       "      <th>12</th>\n",
       "      <td>✨DTIYS SHOWCASE! | !letgo !no</td>\n",
       "      <td>/kimmysparks/videos</td>\n",
       "      <td>None</td>\n",
       "      <td>[English, Birthday, Chatty]</td>\n",
       "      <td>41</td>\n",
       "    </tr>\n",
       "    <tr>\n",
       "      <th>13</th>\n",
       "      <td>몇일 안남았다 C100 [ KR, ENG, JP ]</td>\n",
       "      <td>/solarbimmmm/videos</td>\n",
       "      <td>None</td>\n",
       "      <td>[Korean]</td>\n",
       "      <td>35</td>\n",
       "    </tr>\n",
       "    <tr>\n",
       "      <th>14</th>\n",
       "      <td>drawing two toxic gamers</td>\n",
       "      <td>/refrainbow_live/videos</td>\n",
       "      <td>None</td>\n",
       "      <td>[English, He/Him, Digital Art]</td>\n",
       "      <td>75</td>\n",
       "    </tr>\n",
       "    <tr>\n",
       "      <th>15</th>\n",
       "      <td>yarhar here be capt'n froggo // [mic on]</td>\n",
       "      <td>/artbyzvesta/videos</td>\n",
       "      <td>None</td>\n",
       "      <td>[LGBTQIA+, Digital Art, Cozy]</td>\n",
       "      <td>136</td>\n",
       "    </tr>\n",
       "    <tr>\n",
       "      <th>16</th>\n",
       "      <td>tatuano tatuage</td>\n",
       "      <td>/beamom/videos</td>\n",
       "      <td>None</td>\n",
       "      <td>[Hype Train, Portuguese]</td>\n",
       "      <td>17</td>\n",
       "    </tr>\n",
       "    <tr>\n",
       "      <th>17</th>\n",
       "      <td>Working on a commission • (!auction)</td>\n",
       "      <td>/maaya/videos</td>\n",
       "      <td>None</td>\n",
       "      <td>[English, Digital Art]</td>\n",
       "      <td>74</td>\n",
       "    </tr>\n",
       "    <tr>\n",
       "      <th>18</th>\n",
       "      <td>Back from Small break! | Live2D animation - St...</td>\n",
       "      <td>/coldiart/videos</td>\n",
       "      <td>None</td>\n",
       "      <td>[Drawing, Emote Design]</td>\n",
       "      <td>31</td>\n",
       "    </tr>\n",
       "    <tr>\n",
       "      <th>19</th>\n",
       "      <td>DREAM 30M ART // sunday chill stream !art !soc...</td>\n",
       "      <td>/sinaheh/videos</td>\n",
       "      <td>None</td>\n",
       "      <td>[LGBTQIA+, Cozy, Safe Space]</td>\n",
       "      <td>125</td>\n",
       "    </tr>\n",
       "    <tr>\n",
       "      <th>20</th>\n",
       "      <td>desenha desenha</td>\n",
       "      <td>/jinjinn00/videos</td>\n",
       "      <td>None</td>\n",
       "      <td>[Portuguese, Anime, Woman]</td>\n",
       "      <td>104</td>\n",
       "    </tr>\n",
       "    <tr>\n",
       "      <th>21</th>\n",
       "      <td>[18+] happy sunday! let's do some drawing! |!s...</td>\n",
       "      <td>/redbeanporridge/videos</td>\n",
       "      <td>None</td>\n",
       "      <td>[LGBTQIA+, Cozy, Drawing]</td>\n",
       "      <td>74</td>\n",
       "    </tr>\n",
       "    <tr>\n",
       "      <th>22</th>\n",
       "      <td>[ENG/ID]  aku bosan  | !twitter !discord</td>\n",
       "      <td>/pengxoo/videos</td>\n",
       "      <td>None</td>\n",
       "      <td>[Indonesian]</td>\n",
       "      <td>15</td>\n",
       "    </tr>\n",
       "    <tr>\n",
       "      <th>23</th>\n",
       "      <td>일요일</td>\n",
       "      <td>/rsef_/videos</td>\n",
       "      <td>None</td>\n",
       "      <td>[Korean]</td>\n",
       "      <td>98</td>\n",
       "    </tr>\n",
       "    <tr>\n",
       "      <th>24</th>\n",
       "      <td>何か描いたりゲームしたりしよ</td>\n",
       "      <td>/viva_h/videos</td>\n",
       "      <td>None</td>\n",
       "      <td>[Japanese, Illustration, Chatty]</td>\n",
       "      <td>142</td>\n",
       "    </tr>\n",
       "    <tr>\n",
       "      <th>25</th>\n",
       "      <td>&gt;:3c</td>\n",
       "      <td>/twee/videos</td>\n",
       "      <td>None</td>\n",
       "      <td>[English, Illustration, Digital Art]</td>\n",
       "      <td>66</td>\n",
       "    </tr>\n",
       "    <tr>\n",
       "      <th>26</th>\n",
       "      <td>sus uiika</td>\n",
       "      <td>/susuiika/videos</td>\n",
       "      <td>None</td>\n",
       "      <td>[Vtuber, She/Her, Cozy]</td>\n",
       "      <td>127</td>\n",
       "    </tr>\n",
       "    <tr>\n",
       "      <th>27</th>\n",
       "      <td>Pet Portraits 🌿 New prints in shop: !kofi 🌿 !t...</td>\n",
       "      <td>/casy/videos</td>\n",
       "      <td>None</td>\n",
       "      <td>[English, Woman, Illustration]</td>\n",
       "      <td>67</td>\n",
       "    </tr>\n",
       "    <tr>\n",
       "      <th>28</th>\n",
       "      <td>Stroking some cute lines 🌸| Premade emotes on ...</td>\n",
       "      <td>/chaisia/videos</td>\n",
       "      <td>None</td>\n",
       "      <td>[Cozy, Chilled, Woman]</td>\n",
       "      <td>32</td>\n",
       "    </tr>\n",
       "    <tr>\n",
       "      <th>29</th>\n",
       "      <td>^.=.^ Making world for VRC ^.=.^ |!wawa !disco...</td>\n",
       "      <td>/kureshu_/videos</td>\n",
       "      <td>None</td>\n",
       "      <td>[Furry, Vtuber, English]</td>\n",
       "      <td>11</td>\n",
       "    </tr>\n",
       "  </tbody>\n",
       "</table>\n",
       "</div>"
      ],
      "text/plain": [
       "                                                title  ... viewers\n",
       "0                                   Weekend Marathon!  ...      17\n",
       "1                                                   1  ...       1\n",
       "2                                          싱글벙글 그림 공부  ...      90\n",
       "3                    [ENG/CZ] 💀Orc lady💀| !deviantart  ...     189\n",
       "4                                           리노참치 그림방송  ...     616\n",
       "5   🌱 Local dog creates an OC design with the Pestie!  ...     873\n",
       "6   (ﾉ◕ヮ◕)ﾉ*:･ﾟ✧ Cosy vibes with Lana | !Giveaway ...  ...      72\n",
       "7             ART COLLAB W/ MICHI| !day1 !adv !social  ...      70\n",
       "8                         3D Waifus 💼Nephtunie Day 3💼  ...     198\n",
       "9                       Drawing! ❖ !chatgame !socials  ...      70\n",
       "10                               hello nice to meat u  ...     148\n",
       "11  chill Sunday weird art <3   !video  !SHOP !cof...  ...       9\n",
       "12                      ✨DTIYS SHOWCASE! | !letgo !no  ...      41\n",
       "13                       몇일 안남았다 C100 [ KR, ENG, JP ]  ...      35\n",
       "14                           drawing two toxic gamers  ...      75\n",
       "15           yarhar here be capt'n froggo // [mic on]  ...     136\n",
       "16                                    tatuano tatuage  ...      17\n",
       "17               Working on a commission • (!auction)  ...      74\n",
       "18  Back from Small break! | Live2D animation - St...  ...      31\n",
       "19  DREAM 30M ART // sunday chill stream !art !soc...  ...     125\n",
       "20                                    desenha desenha  ...     104\n",
       "21  [18+] happy sunday! let's do some drawing! |!s...  ...      74\n",
       "22           [ENG/ID]  aku bosan  | !twitter !discord  ...      15\n",
       "23                                                일요일  ...      98\n",
       "24                                     何か描いたりゲームしたりしよ  ...     142\n",
       "25                                               >:3c  ...      66\n",
       "26                                          sus uiika  ...     127\n",
       "27  Pet Portraits 🌿 New prints in shop: !kofi 🌿 !t...  ...      67\n",
       "28  Stroking some cute lines 🌸| Premade emotes on ...  ...      32\n",
       "29  ^.=.^ Making world for VRC ^.=.^ |!wawa !disco...  ...      11\n",
       "\n",
       "[30 rows x 5 columns]"
      ]
     },
     "execution_count": 41,
     "metadata": {},
     "output_type": "execute_result"
    }
   ],
   "source": [
    "import pandas as pd\n",
    "pd.DataFrame(parsed)"
   ]
  },
  {
   "cell_type": "markdown",
   "metadata": {},
   "source": [
    "# Browser Automation\n"
   ]
  },
  {
   "cell_type": "markdown",
   "metadata": {},
   "source": [
    "## is used for testing "
   ]
  },
  {
   "cell_type": "markdown",
   "metadata": {},
   "source": [
    "## for us we only setup our driver protocol and get our url as we act like clients then finally in the last we close the browser"
   ]
  },
  {
   "cell_type": "markdown",
   "metadata": {},
   "source": [
    "# the general process followed when performing web scraping is:\n",
    "\n",
    "- Use the webdriver for the browser being used to get a specific URL.\n",
    "- Perform automation to obtain the information required.\n",
    "- Download the content required from the webpage returned.\n",
    "- Perform data parsing and manipulation on the content.\n",
    "- Reformat, if needed, and store the data for further analysis."
   ]
  },
  {
   "cell_type": "markdown",
   "metadata": {},
   "source": [
    "# Selenium is used along with BeautifulSoup to scrape and then carry out data manipulation"
   ]
  },
  {
   "cell_type": "markdown",
   "metadata": {},
   "source": [
    "- Selenium is needed in order to carry out web scraping and automate the chrome browser\n",
    "- BeautifulSoup is needed as an HTML parser, to parse the HTML content we scrape\n",
    "- Re is imported in order to use regex to match our keyword\n",
    "- "
   ]
  },
  {
   "cell_type": "markdown",
   "metadata": {},
   "source": [
    "## kinds of web automation :\n",
    "    Filling out forms or carrying out searches"
   ]
  },
  {
   "cell_type": "markdown",
   "metadata": {},
   "source": [
    "Example of Google search automation using Selenium with Python.\n",
    "\n"
   ]
  },
  {
   "cell_type": "code",
   "execution_count": null,
   "metadata": {},
   "outputs": [],
   "source": [
    "\n",
    "from selenium import webdriver\n",
    "\n",
    "from selenium.webdriver.chrome.service import Service\n",
    "\n",
    "from webdriver_manager.chrome import ChromeDriverManager\n",
    "\n",
    "from selenium.webdriver.common.keys import Keys\n",
    "\n",
    "from selenium.webdriver.common.by import By\n",
    "\n",
    "\n",
    "\n",
    "driver = webdriver.Chrome(service=Service(ChromeDriverManager().install()))\n",
    "\n",
    "\n",
    "\n",
    "driver.get(“https://www.google.com/”)\n",
    "\n",
    "search = driver.find_element(by=By.NAME,value=“q”)\n",
    "\n",
    "search.send_keys(“Selenium”)\n",
    "\n",
    "search.send_keys(Keys.ENTER)\n",
    "\n"
   ]
  },
  {
   "cell_type": "markdown",
   "metadata": {},
   "source": [
    "- First, the driver loads google.com, which finds the search bar using the name locator. It types “Selenium” into the searchbar and then hits enter."
   ]
  },
  {
   "cell_type": "markdown",
   "metadata": {},
   "source": [
    "Maximizing the window\n"
   ]
  },
  {
   "cell_type": "markdown",
   "metadata": {},
   "source": [
    "## driver.maximize_window()\n"
   ]
  },
  {
   "cell_type": "markdown",
   "metadata": {},
   "source": [
    "Taking Screenshots\n"
   ]
  },
  {
   "cell_type": "markdown",
   "metadata": {},
   "source": [
    "## driver.save_screenshot(‘article.png’)"
   ]
  },
  {
   "cell_type": "markdown",
   "metadata": {},
   "source": [
    "#### Using locators to find elements"
   ]
  },
  {
   "cell_type": "markdown",
   "metadata": {},
   "source": [
    "Let’s say we don’t want to get the entire page source and instead only want to web scrape a select few elements. This can be carried out by using Locators in Selenium"
   ]
  },
  {
   "cell_type": "markdown",
   "metadata": {},
   "source": [
    "## These are some of the locators compatible for use with Selenium:\n",
    "\n",
    "- Name\n",
    "- ID\n",
    "- Class Name\n",
    "- Tag Name\n",
    "- CSS Selector\n",
    "- XPath\n",
    "\n",
    " header=driver.find_element(By.ID, “toc0”)"
   ]
  },
  {
   "cell_type": "markdown",
   "metadata": {},
   "source": [
    "#### Scrolling"
   ]
  },
  {
   "cell_type": "code",
   "execution_count": 2,
   "metadata": {},
   "outputs": [],
   "source": [
    "#driver.execute_script(“window.scrollTo(0, document.body.scrollHeight);”)"
   ]
  },
  {
   "cell_type": "markdown",
   "metadata": {},
   "source": [
    "#### This scrolls to the bottom of the page, and is often helpful for websites that have infinite scrolling."
   ]
  },
  {
   "cell_type": "markdown",
   "metadata": {},
   "source": [
    "# What is XPath in Selenium?\n"
   ]
  },
  {
   "cell_type": "markdown",
   "metadata": {},
   "source": [
    "XPath is a technique in Selenium to navigate through the HTML structure of a page. XPath enables testers to navigate through the XML structure of any document, and this can be used on both HTML and XML documents.\n",
    "\n"
   ]
  },
  {
   "cell_type": "markdown",
   "metadata": {},
   "source": [
    "### While other locators in Selenium that search for elements using tags or CSS class names are simpler to use,\n",
    "\n",
    "### XPath provides an option to dynamically search for an element within a web page"
   ]
  },
  {
   "cell_type": "code",
   "execution_count": 3,
   "metadata": {},
   "outputs": [],
   "source": [
    "#find_element_by_xpath() method "
   ]
  },
  {
   "cell_type": "markdown",
   "metadata": {},
   "source": [
    "## Types of XPath in Selenium\n"
   ]
  },
  {
   "cell_type": "markdown",
   "metadata": {},
   "source": [
    "### 1. Absolute Path\n"
   ]
  },
  {
   "cell_type": "code",
   "execution_count": null,
   "metadata": {},
   "outputs": [],
   "source": [
    "<html>\n",
    "<head>...</head>\n",
    "<body>\n",
    "<form id=\"loginForm\">\n",
    "<input name=\"email\" type=\"text\" value=\"Business Email\" />\n",
    "<input name=\"name\" type=\"text\" value=\"First Name\" />\n",
    "<input name=\"name\" type=\"text\" value=\"Last Name\" />\n",
    "</form>\n",
    "</body>\n",
    "</html>"
   ]
  },
  {
   "cell_type": "code",
   "execution_count": null,
   "metadata": {},
   "outputs": [],
   "source": [
    "html/body/form/input[3]"
   ]
  },
  {
   "cell_type": "markdown",
   "metadata": {},
   "source": [
    "## 2. Relative Path\n"
   ]
  },
  {
   "cell_type": "markdown",
   "metadata": {},
   "source": [
    "A relative path, or a double slash search, begins with double slashes. The double slashes signify a break in the absolute path. Here is how to select the same business email field using a relative path."
   ]
  },
  {
   "cell_type": "code",
   "execution_count": null,
   "metadata": {},
   "outputs": [],
   "source": [
    "//form/input[3]"
   ]
  },
  {
   "cell_type": "markdown",
   "metadata": {},
   "source": [
    "## How to handle dynamic elements in Selenium using XPath?"
   ]
  },
  {
   "cell_type": "code",
   "execution_count": null,
   "metadata": {},
   "outputs": [],
   "source": [
    "1. Using attributes\n",
    "in case more than one form "
   ]
  },
  {
   "cell_type": "code",
   "execution_count": null,
   "metadata": {},
   "outputs": [],
   "source": [
    "//form[@id='loginForm']/input[3]  # shows the use of a single attribute"
   ]
  },
  {
   "cell_type": "code",
   "execution_count": null,
   "metadata": {},
   "outputs": [],
   "source": [
    "//input[@name='name'][@value='Last Name']\n",
    "#use multiple attributes of the same tag to locate it on the page"
   ]
  },
  {
   "cell_type": "code",
   "execution_count": null,
   "metadata": {},
   "outputs": [],
   "source": [
    "2. Logical operators in selections\n",
    "//input[@id='name' or @name='name']"
   ]
  },
  {
   "cell_type": "code",
   "execution_count": null,
   "metadata": {},
   "outputs": [],
   "source": [
    "3. Using text"
   ]
  },
  {
   "cell_type": "markdown",
   "metadata": {},
   "source": [
    "One may search for an element using the text that it contains too. For instance, to select a link that says “Click Me”, one can use the following search:\n",
    "\n"
   ]
  },
  {
   "cell_type": "code",
   "execution_count": null,
   "metadata": {},
   "outputs": [],
   "source": [
    "//a[text()='Click Me']"
   ]
  },
  {
   "cell_type": "markdown",
   "metadata": {},
   "source": [
    "This snippet searches for any hyperlink that contains the text “Click Me” within it. Replace the tag with a wildcard * to search for any element that contains the text “Click Me”.\n",
    "\n"
   ]
  },
  {
   "cell_type": "code",
   "execution_count": null,
   "metadata": {},
   "outputs": [],
   "source": [
    "//*[text()='Click Me']"
   ]
  }
 ],
 "metadata": {
  "kernelspec": {
   "display_name": "Python 3",
   "language": "python",
   "name": "python3"
  },
  "language_info": {
   "codemirror_mode": {
    "name": "ipython",
    "version": 3
   },
   "file_extension": ".py",
   "mimetype": "text/x-python",
   "name": "python",
   "nbconvert_exporter": "python",
   "pygments_lexer": "ipython3",
   "version": "3.8.5"
  }
 },
 "nbformat": 4,
 "nbformat_minor": 4
}
