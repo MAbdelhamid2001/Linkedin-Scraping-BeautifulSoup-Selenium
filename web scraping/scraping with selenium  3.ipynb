{
 "cells": [
  {
   "cell_type": "markdown",
   "metadata": {},
   "source": [
    "## Selenium is useful when you have to perform an action on a website such as:\n",
    "\n",
    "- Clicking on buttons\n",
    "- Filling forms\n",
    "- Scrolling\n",
    "- Taking a screenshot\n",
    "- executing Javascript code"
   ]
  },
  {
   "cell_type": "markdown",
   "metadata": {},
   "source": [
    "### here are many ways to locate an element in selenium. Let's say that we want to locate the h1 tag in this HTML:"
   ]
  },
  {
   "cell_type": "code",
   "execution_count": null,
   "metadata": {},
   "outputs": [],
   "source": [
    "<html>\n",
    "    <head>\n",
    "        ... some stuff\n",
    "    </head>\n",
    "    <body>\n",
    "        <h1 class=\"someclass\" id=\"greatID\">Super title</h1>\n",
    "    </body>\n",
    "</html>"
   ]
  },
  {
   "cell_type": "code",
   "execution_count": null,
   "metadata": {},
   "outputs": [],
   "source": [
    "h1 = driver.find_element_by_name('h1')\n",
    "h1 = driver.find_element_by_class_name('someclass')\n",
    "h1 = driver.find_element_by_xpath('//h1')\n",
    "h1 = driver.find_element_by_id('greatID')"
   ]
  },
  {
   "cell_type": "code",
   "execution_count": null,
   "metadata": {},
   "outputs": [],
   "source": [
    "#to get all anchors on a page, use the following:\n",
    "all_links = driver.find_elements_by_tag_name('a')"
   ]
  },
  {
   "cell_type": "markdown",
   "metadata": {},
   "source": [
    "## A WebElement is a Selenium object representing an HTML element.\n",
    "\n",
    "There are many actions that you can perform on those HTML elements, here are the most useful:\n",
    "\n",
    "- Accessing the text of the element with the property element.text\n",
    "- Clicking on the element with element.click()\n",
    "- Accessing an attribute with element.get_attribute('class')\n",
    "- Sending text to an input with: element.send_keys('mypassword')\n",
    "    "
   ]
  },
  {
   "cell_type": "code",
   "execution_count": null,
   "metadata": {},
   "outputs": [],
   "source": [
    "driver.get(\"https://news.ycombinator.com/login\")\n",
    "\n",
    "login = driver.find_element_by_xpath(\"//input\").send_keys(USERNAME)\n",
    "password = driver.find_element_by_xpath(\"//input[@type='password']\").send_keys(PASSWORD)\n",
    "submit = driver.find_element_by_xpath(\"//input[@value='login']\").click()"
   ]
  },
  {
   "cell_type": "markdown",
   "metadata": {},
   "source": [
    "## because all of the find_element_by_* raise an exception if the element \n",
    "So we have to use a try/except block and catch the NoSuchElementException exception:"
   ]
  },
  {
   "cell_type": "markdown",
   "metadata": {},
   "source": [
    "# Waiting for an element to be present"
   ]
  },
  {
   "cell_type": "markdown",
   "metadata": {},
   "source": [
    "## there are two ways to solve this:\n",
    "1. Use a time.sleep(ARBITRARY_TIME) before taking the screenshot"
   ]
  },
  {
   "cell_type": "markdown",
   "metadata": {},
   "source": [
    "#### 2."
   ]
  },
  {
   "cell_type": "code",
   "execution_count": null,
   "metadata": {},
   "outputs": [],
   "source": [
    "try:\n",
    "    element = WebDriverWait(driver, 5).until(\n",
    "        EC.presence_of_element_located((By.ID, \"mySuperId\"))\n",
    "    )\n",
    "finally:\n",
    "    driver.quit()"
   ]
  },
  {
   "cell_type": "markdown",
   "metadata": {},
   "source": [
    "# Executing Javascript\n"
   ]
  },
  {
   "cell_type": "code",
   "execution_count": null,
   "metadata": {},
   "outputs": [],
   "source": [
    " take a screenshot of some information, but you first need to scroll a bit to see it"
   ]
  },
  {
   "cell_type": "code",
   "execution_count": null,
   "metadata": {},
   "outputs": [],
   "source": [
    "javaScript = \"window.scrollBy(0,1000);\"\n",
    "driver.execute_script(javaScript)\n",
    "Using a proxy wi"
   ]
  },
  {
   "cell_type": "markdown",
   "metadata": {},
   "source": [
    "# Blocking images and JavaScript\n"
   ]
  },
  {
   "cell_type": "code",
   "execution_count": null,
   "metadata": {},
   "outputs": [],
   "source": [
    "from selenium import webdriver\n",
    "\n",
    "chrome_options = webdriver.ChromeOptions()\n",
    "\n",
    "### This blocks images and javascript requests\n",
    "chrome_prefs = {\n",
    "    \"profile.default_content_setting_values\": {\n",
    "        \"images\": 2,\n",
    "        \"javascript\": 2,\n",
    "    }\n",
    "}\n",
    "chrome_options.experimental_options[\"prefs\"] = chrome_prefs\n",
    "###\n",
    "\n",
    "driver = webdriver.Chrome(\n",
    "    executable_path=\"YOUR-CHROME-EXECUTABLE-PATH\",\n",
    "    chrome_options=chrome_options,\n",
    ")\n",
    "driver.get(URL)\n",
    "Conclus"
   ]
  }
 ],
 "metadata": {
  "kernelspec": {
   "display_name": "Python 3",
   "language": "python",
   "name": "python3"
  },
  "language_info": {
   "codemirror_mode": {
    "name": "ipython",
    "version": 3
   },
   "file_extension": ".py",
   "mimetype": "text/x-python",
   "name": "python",
   "nbconvert_exporter": "python",
   "pygments_lexer": "ipython3",
   "version": "3.8.5"
  }
 },
 "nbformat": 4,
 "nbformat_minor": 4
}
